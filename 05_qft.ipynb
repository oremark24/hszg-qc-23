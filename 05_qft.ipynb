{
 "cells": [
  {
   "cell_type": "markdown",
   "id": "485ecb9f-2373-40ce-8504-9f30d666ac81",
   "metadata": {},
   "source": [
    "# Exercise 5 - Quantum Fourier Transformation"
   ]
  },
  {
   "cell_type": "markdown",
   "id": "dde372d9-793a-4323-bbc6-0712ca730287",
   "metadata": {
    "tags": []
   },
   "source": [
    "## Exercise 5.1 - Eigenvalues, eigenvectors\n",
    "Recall the terms _eigenvalue_, _spectrum_ and _eigenvector_ of a linear operator (matrix).\n",
    "Give the spectrum and an orthonormal basis (ONB) of eigenvectors for the following gates:\n",
    "1. NOT Gate $X$,\n",
    "2. Phase Shift Gate $P(\\theta)=\\begin{bmatrix}1 & 0 \\\\ 0 & e^{i\\theta}\\end{bmatrix}$."
   ]
  },
  {
   "cell_type": "markdown",
   "id": "b37a826d",
   "metadata": {},
   "source": [
    "## Exercise 5.2 - Phase kickback\n",
    "Let $U$ be a quantum gate and $\\lvert\\psi\\rangle$ be a quantum state with $U\\lvert\\psi\\rangle=\\lambda\\lvert\\psi\\rangle$ for some $\\lambda\\in\\mathbb{C}$. Explain the _phase kickback_ by applying the controlled gate $CU$ to the quantum state \n",
    "$(\\alpha\\lvert0\\rangle+\\beta\\lvert1\\rangle)\\otimes\\lvert\\psi\\rangle$."
   ]
  }
 ],
 "metadata": {
  "kernelspec": {
   "display_name": "Python 3 (ipykernel)",
   "language": "python",
   "name": "python3"
  },
  "language_info": {
   "codemirror_mode": {
    "name": "ipython",
    "version": 3
   },
   "file_extension": ".py",
   "mimetype": "text/x-python",
   "name": "python",
   "nbconvert_exporter": "python",
   "pygments_lexer": "ipython3",
   "version": "3.10.8"
  },
  "vscode": {
   "interpreter": {
    "hash": "b0fa6594d8f4cbf19f97940f81e996739fb7646882a419484c72d19e05852a7e"
   }
  }
 },
 "nbformat": 4,
 "nbformat_minor": 5
}
